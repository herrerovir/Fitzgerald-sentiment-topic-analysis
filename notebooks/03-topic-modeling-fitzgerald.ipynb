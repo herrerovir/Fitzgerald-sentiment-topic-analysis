{
 "cells": [
  {
   "cell_type": "markdown",
   "id": "9733b31b",
   "metadata": {},
   "source": [
    "# Discovering Themes\n",
    "### Uncovering Latent Topics in Fitzgerald’s Novels with NLP\n",
    "\n",
    "In this notebook, we apply topic modeling techniques to explore recurring themes in F. Scott Fitzgerald’s novels. Using unsupervised learning models such as Latent Dirichlet Allocation (LDA) and/or BERTopic, we uncover hidden semantic structures within the texts. The goal is to identify the dominant themes and how they shift across chapters or books."
   ]
  }
 ],
 "metadata": {
  "kernelspec": {
   "display_name": ".venv",
   "language": "python",
   "name": "python3"
  },
  "language_info": {
   "codemirror_mode": {
    "name": "ipython",
    "version": 3
   },
   "file_extension": ".py",
   "mimetype": "text/x-python",
   "name": "python",
   "nbconvert_exporter": "python",
   "pygments_lexer": "ipython3",
   "version": "3.10.2"
  }
 },
 "nbformat": 4,
 "nbformat_minor": 5
}
