{
 "cells": [
  {
   "cell_type": "markdown",
   "id": "fb684613",
   "metadata": {},
   "source": [
    "# Mapping Emotion\n",
    "### Sentiment Analysis of Fitzgerald’s Novels Using VADER and Cardiff RoBERTa\n",
    "\n",
    "This notebook analyzes the emotional tone in F. Scott Fitzgerald’s novels using two sentiment analysis models: VADER (a rule-based model) and CardiffNLP’s RoBERTa (a transformer-based model fine-tuned model).\n",
    "\n",
    "Cleaned, sentence-level text is loaded for each novel. Sentiment scores are computed using both models, aggregated by chapter, and compared to explore how each method captures emotional patterns across the narratives. The results are visualized to highlight trends and differences in sentiment over the course of each book."
   ]
  }
 ],
 "metadata": {
  "kernelspec": {
   "display_name": ".venv",
   "language": "python",
   "name": "python3"
  },
  "language_info": {
   "codemirror_mode": {
    "name": "ipython",
    "version": 3
   },
   "file_extension": ".py",
   "mimetype": "text/x-python",
   "name": "python",
   "nbconvert_exporter": "python",
   "pygments_lexer": "ipython3",
   "version": "3.10.2"
  }
 },
 "nbformat": 4,
 "nbformat_minor": 5
}
