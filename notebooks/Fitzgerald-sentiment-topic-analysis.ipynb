{
 "cells": [
  {
   "cell_type": "markdown",
   "id": "76a6ff77",
   "metadata": {},
   "source": [
    "# Decoding Fitzgerald\n",
    "### _Exploring Themes and Emotions in F. Scott Fitzgerald’s Works with NLP_\n",
    "**Author:** Virginia Herrero"
   ]
  },
  {
   "cell_type": "markdown",
   "id": "05c4a556",
   "metadata": {},
   "source": [
    "## Import Libraries"
   ]
  },
  {
   "cell_type": "code",
   "execution_count": 1,
   "id": "e3526a2e",
   "metadata": {},
   "outputs": [
    {
     "name": "stderr",
     "output_type": "stream",
     "text": [
      "[nltk_data] Downloading package punkt to C:\\nltk_data...\n",
      "[nltk_data]   Package punkt is already up-to-date!\n"
     ]
    }
   ],
   "source": [
    "# Utilities\n",
    "import os\n",
    "import re\n",
    "import requests\n",
    "import time\n",
    "\n",
    "# Text processing\n",
    "import nltk\n",
    "from nltk.tokenize import sent_tokenize\n",
    "\n",
    "# Download NLTK resources\n",
    "nltk.download('punkt')\n",
    "\n",
    "# Data visualization\n",
    "import matplotlib.pyplot as plt\n",
    "import seaborn as sns"
   ]
  },
  {
   "cell_type": "markdown",
   "id": "bb24df55",
   "metadata": {},
   "source": [
    "## Data Collection\n",
    "\n",
    "This project analyzes themes and emotions in F. Scott Fitzgerald's works using natural language processing techniques. The texts were sourced from Project Gutenberg, where only the first three novels—This Side of Paradise, The Beautiful and Damned, and The Great Gatsby—are available for free. Tender Is the Night is not yet in the public domain and therefore excluded from the analysis. Fitzgerald’s unfinished final novel, The Last Tycoon, published posthumously, is also not included."
   ]
  },
  {
   "cell_type": "code",
   "execution_count": 3,
   "id": "9b86d1ca",
   "metadata": {},
   "outputs": [
    {
     "name": "stdout",
     "output_type": "stream",
     "text": [
      "Downloading This-side-of-paradise...\n",
      "Saved to ../data/raw/This-side-of-paradise.txt\n",
      "\n",
      "Downloading The-beautiful-and-damned...\n",
      "Saved to ../data/raw/The-beautiful-and-damned.txt\n",
      "\n",
      "Downloading The-great-gatsby...\n",
      "Saved to ../data/raw/The-great-gatsby.txt\n",
      "\n",
      "All downloads completed!\n"
     ]
    }
   ],
   "source": [
    "# Ensure the raw data directory exists\n",
    "os.makedirs(\"../data/raw\", exist_ok = True)\n",
    "\n",
    "# Dictionary of Fitzgerald's books and their Project Gutenberg plain text URLs\n",
    "books = {\n",
    "    \"This-side-of-paradise\": \"https://www.gutenberg.org/cache/epub/805/pg805.txt\",\n",
    "    \"The-beautiful-and-damned\": \"https://www.gutenberg.org/cache/epub/9830/pg9830.txt\",\n",
    "    \"The-great-gatsby\": \"https://www.gutenberg.org/cache/epub/64317/pg64317.txt\"   \n",
    "}\n",
    "\n",
    "# Download and save each book in the raw data directory\n",
    "for title, url in books.items():\n",
    "    print(f\"Downloading {title}...\")\n",
    "    response = requests.get(url)\n",
    "    if response.status_code == 200:\n",
    "        filepath = f\"../data/raw/{title}.txt\"\n",
    "        with open(filepath, \"w\", encoding = \"utf-8\") as f:\n",
    "            f.write(response.text)\n",
    "        print(f\"Saved to {filepath}\\n\")\n",
    "    else:\n",
    "        print(f\"Failed to download {title} from {url}\\n\")\n",
    "    time.sleep(2)\n",
    "\n",
    "print(\"All downloads completed!\")"
   ]
  }
 ],
 "metadata": {
  "kernelspec": {
   "display_name": ".venv",
   "language": "python",
   "name": "python3"
  },
  "language_info": {
   "codemirror_mode": {
    "name": "ipython",
    "version": 3
   },
   "file_extension": ".py",
   "mimetype": "text/x-python",
   "name": "python",
   "nbconvert_exporter": "python",
   "pygments_lexer": "ipython3",
   "version": "3.10.2"
  }
 },
 "nbformat": 4,
 "nbformat_minor": 5
}
