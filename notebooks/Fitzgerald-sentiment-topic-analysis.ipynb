{
 "cells": [
  {
   "cell_type": "markdown",
   "id": "76a6ff77",
   "metadata": {},
   "source": [
    "# Decoding Fitzgerald\n",
    "### _Exploring Themes and Emotions in F. Scott Fitzgerald’s Works with NLP_\n",
    "**Author:** Virginia Herrero"
   ]
  }
 ],
 "metadata": {
  "language_info": {
   "name": "python"
  }
 },
 "nbformat": 4,
 "nbformat_minor": 5
}
